{
 "cells": [
  {
   "cell_type": "code",
   "execution_count": 34,
   "metadata": {},
   "outputs": [],
   "source": [
    "import numpy as np\n",
    "import pandas as pd\n",
    "import seaborn as sns\n",
    "sns.set()\n",
    "import matplotlib.pyplot as plt\n",
    "from sklearn.model_selection import train_test_split\n",
    "from sklearn.preprocessing import StandardScaler\n",
    "from sklearn.discriminant_analysis import LinearDiscriminantAnalysis as LDA\n",
    "from sklearn import tree\n",
    "from sklearn.metrics import confusion_matrix\n",
    "from sklearn.metrics import classification_report\n",
    "import time"
   ]
  },
  {
   "cell_type": "code",
   "execution_count": 35,
   "metadata": {},
   "outputs": [
    {
     "data": {
      "image/png": "[encoded data removed]",
      "text/plain": [
       "<Figure size 432x288 with 1 Axes>"
      ]
     },
     "metadata": {},
     "output_type": "display_data"
    },
    {
     "name": "stdout",
     "output_type": "stream",
     "text": [
      "X shape = \n",
      "(569, 30)\n",
      "Y shape = \n",
      "(569,)\n",
      "[[-1.15036482 -0.39064196 -1.12855021 ... -0.75798367 -0.01614761\n",
      "  -0.38503402]\n",
      " [-0.93798972  0.68051405 -0.94820146 ... -0.60687023  0.09669004\n",
      "  -0.38615797]\n",
      " [ 0.574121   -1.03333557  0.51394098 ... -0.02371948 -0.20050207\n",
      "  -0.75144254]\n",
      " ...\n",
      " [-1.32422924 -0.20048168 -1.31754581 ... -0.97974953 -0.71542314\n",
      "  -0.11978123]\n",
      " [-1.24380987 -0.2245526  -1.28007609 ... -1.75401433 -1.58157125\n",
      "  -1.00601779]\n",
      " [-0.73694129  1.14989702 -0.71226578 ... -0.27460457 -1.25895095\n",
      "   0.21515662]]\n",
      "[[-0.20175604  0.3290786  -0.13086754 ...  1.3893291   1.08203284\n",
      "   1.54029664]\n",
      " [-0.25555773  1.46763319 -0.31780437 ... -0.83369364 -0.73131577\n",
      "  -0.87732522]\n",
      " [-0.02619262 -0.8407682  -0.09175081 ... -0.49483785 -1.22080864\n",
      "  -0.92115937]\n",
      " ...\n",
      " [ 1.71811488  0.09318356  1.7286186  ...  1.57630515  0.20317063\n",
      "  -0.15406178]\n",
      " [ 1.18859296  0.34352115  1.19333694 ...  0.56019755  0.26991966\n",
      "  -0.27320074]\n",
      " [ 0.26263752 -0.58080224  0.28459338 ... -0.19383705 -1.15564888\n",
      "   0.11231497]]\n",
      "\n",
      "Confusion Matrix:\n",
      "[[65  2]\n",
      " [ 3 44]]\n",
      "              precision    recall  f1-score   support\n",
      "\n",
      "           B       0.97      0.96      0.96        68\n",
      "           M       0.94      0.96      0.95        46\n",
      "\n",
      "    accuracy                           0.96       114\n",
      "   macro avg       0.95      0.96      0.95       114\n",
      "weighted avg       0.96      0.96      0.96       114\n",
      "\n",
      "The runtime is 0.2699270248413086sec\n"
     ]
    }
   ],
   "source": [
    "# starting time\n",
    "start = time.time()\n",
    "# Reading excel file\n",
    "df = pd.read_csv('/Users/kasukurthi/Downloads/data_BC.txt')\n",
    "\n",
    "# Using seaborn to plot bar-graph of the 'diagnosis'\n",
    "sns.countplot(df['diagnosis'])\n",
    "plt.show()\n",
    "\n",
    "# Removing the columns 'Unnames: 32','id' by dropping it\n",
    "df.drop(['Unnamed: 32'], axis = 1, inplace = True)\n",
    "df.drop(['id'], axis = 1, inplace = True)\n",
    "\n",
    "# X is the data including all the features(Here, 30)\n",
    "X = df.iloc[:, 1:].values\n",
    "# y is the 'diagnosis' values\n",
    "y = df['diagnosis'].values\n",
    "print(\"X shape = \")\n",
    "print(X.shape)\n",
    "print(\"Y shape = \") \n",
    "print(y.shape)\n",
    "\n",
    "# Using train test split \n",
    "# training data and testing data is divided as 80% and 20% respectively\n",
    "X_train, X_test, y_train, y_test = train_test_split(X,y, test_size = 0.2, random_state= 0)\n",
    "\n",
    "# Using StandardScaler to standardize the data\n",
    "# Standardize is to remove the mean and scale each feature to unit variance\n",
    "# In normal words, it transforms the data in such a way that\n",
    "# mean = 0 and standard deviation = 1\n",
    "sc = StandardScaler()\n",
    "# fit_transform is used on training data\n",
    "# fit method is calculating the mean and variance of each of the features present in our data\n",
    "# transform method is transforming all the features using the respective mean and variance\n",
    "X_train = sc.fit_transform(X_train)\n",
    "# transform is used on testing data\n",
    "# Using the transform method we can use the same mean and variance \n",
    "# as it is calculated from our training data to transform our test data \n",
    "X_test = sc.transform(X_test)\n",
    "print(X_train)\n",
    "print(X_test)\n",
    "\n",
    "# LDA is the imported function from sklearn\n",
    "lda = LDA(n_components = 1)\n",
    "X_train = lda.fit_transform(X_train, y_train)\n",
    "X_test = lda.transform(X_test)\n",
    "\n",
    "clf = tree.DecisionTreeClassifier()\n",
    "clf.fit(X_train, y_train)\n",
    "y_pred = clf.predict(X_test)\n",
    "cm = confusion_matrix(y_test, y_pred)\n",
    "print(\"\\nConfusion Matrix:\")\n",
    "print(cm)\n",
    "print(classification_report(y_pred,y_test))\n",
    "# stoping time\n",
    "end = time.time()\n",
    "# Print the runtime\n",
    "print(f\"The runtime is {end - start}\" + \"sec\")"
   ]
  },
  {
   "cell_type": "code",
   "execution_count": null,
   "metadata": {},
   "outputs": [],
   "source": []
  }
 ],
 "metadata": {
  "kernelspec": {
   "display_name": "Python 3",
   "language": "python",
   "name": "python3"
  },
  "language_info": {
   "codemirror_mode": {
    "name": "ipython",
    "version": 3
   },
   "file_extension": ".py",
   "mimetype": "text/x-python",
   "name": "python",
   "nbconvert_exporter": "python",
   "pygments_lexer": "ipython3",
   "version": "3.7.6"
  }
 },
 "nbformat": 4,
 "nbformat_minor": 4
}
