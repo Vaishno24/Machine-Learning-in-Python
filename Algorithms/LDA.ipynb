{
 "cells": [
  {
   "cell_type": "markdown",
   "metadata": {},
   "source": [
    "# Linear Discriminant Analysis"
   ]
  },
  {
   "cell_type": "code",
   "execution_count": 2,
   "metadata": {},
   "outputs": [],
   "source": [
    "import numpy as np\n",
    "import pandas as pd\n",
    "import seaborn as sns\n",
    "sns.set()\n",
    "import matplotlib.pyplot as plt\n",
    "from sklearn.model_selection import train_test_split\n",
    "from sklearn.preprocessing import StandardScaler\n",
    "from sklearn.discriminant_analysis import LinearDiscriminantAnalysis as LDA\n",
    "from sklearn import tree\n",
    "from sklearn.metrics import confusion_matrix\n",
    "from sklearn.metrics import classification_report\n",
    "import time"
   ]
  },
  {
   "cell_type": "code",
   "execution_count": 10,
   "metadata": {},
   "outputs": [
    {
     "data": {
      "image/png": "[encoded data removed]",
      "text/plain": [
       "<Figure size 432x288 with 1 Axes>"
      ]
     },
     "metadata": {},
     "output_type": "display_data"
    },
    {
     "name": "stdout",
     "output_type": "stream",
     "text": [
      "X shape = \n",
      "(699, 9)\n",
      "Y shape = \n",
      "(699,)\n",
      "[[ 0.2995061   0.28957312  1.11907675 ...  0.04124139 -0.32425801\n",
      "   1.41611311]\n",
      " [ 2.25768045  2.30456946 -0.62247087 ...  0.04124139 -0.32425801\n",
      "   1.41611311]\n",
      " [-0.67958108 -0.71792505  0.07414818 ... -0.60816532 -0.32425801\n",
      "  -0.70615828]\n",
      " ...\n",
      " [-0.67958108 -0.71792505 -0.62247087 ... -0.60816532 -0.32425801\n",
      "  -0.70615828]\n",
      " [-0.67958108 -0.71792505 -0.62247087 ... -0.60816532 -0.32425801\n",
      "  -0.70615828]\n",
      " [-0.67958108 -0.71792505 -0.62247087 ... -0.60816532 -0.32425801\n",
      "  -0.70615828]]\n",
      "[[-0.67958108 -0.38209233 -0.62247087 ... -0.60816532 -0.32425801\n",
      "  -0.70615828]\n",
      " [-0.35321869 -0.38209233 -0.62247087 ... -0.60816532 -0.32425801\n",
      "  -0.70615828]\n",
      " [ 0.95223088  0.96123857  2.16400532 ...  1.66475816 -0.32425801\n",
      "  -0.70615828]\n",
      " ...\n",
      " [ 0.62586849  0.96123857  2.51231485 ...  0.04124139 -0.32425801\n",
      "   1.41611311]\n",
      " [-0.67958108 -0.71792505 -0.62247087 ... -0.60816532 -0.32425801\n",
      "  -0.70615828]\n",
      " [-0.67958108 -0.71792505 -0.62247087 ... -0.60816532  0.28196349\n",
      "  -0.70615828]]\n",
      "\n",
      "Confusion Matrix:\n",
      "[[85  0]\n",
      " [ 0 55]]\n",
      "              precision    recall  f1-score   support\n",
      "\n",
      "           2       1.00      1.00      1.00        85\n",
      "           4       1.00      1.00      1.00        55\n",
      "\n",
      "    accuracy                           1.00       140\n",
      "   macro avg       1.00      1.00      1.00       140\n",
      "weighted avg       1.00      1.00      1.00       140\n",
      "\n",
      "The runtime is 0.5070509910583496sec\n"
     ]
    }
   ],
   "source": [
    "# starting time\n",
    "start = time.time()\n",
    "# Reading excel file\n",
    "data = pd.read_excel(r\"C:\\Users\\sriva\\OneDrive\\Desktop\\Python_for_ML_project_dataset\\breast-cancer-wisconsin.xlsx\")\n",
    "df = pd.DataFrame(data)\n",
    "\n",
    "# Using seaborn to plot bar-graph of classes\n",
    "sns.countplot(df['Class'])\n",
    "plt.show()\n",
    "\n",
    "# Removing the column 'sample code number' by dropping it\n",
    "df.drop(['sample code number'], axis = 1, inplace = True)\n",
    "\n",
    "# X is the data including all the features(Here, 9)\n",
    "X = df.iloc[:, 1:].values\n",
    "# y is the 'Class' values\n",
    "y = df['Class'].values\n",
    "print(\"X shape = \")\n",
    "print(X.shape)\n",
    "print(\"Y shape = \") \n",
    "print(y.shape)\n",
    "\n",
    "# Using train test split \n",
    "# training data and testing data is divided as 80% and 20% respectively\n",
    "X_train, X_test, y_train, y_test = train_test_split(X,y, test_size = 0.2, random_state= 0)\n",
    "\n",
    "# Using StandardScaler to standardize the data\n",
    "# Standardize is to remove the mean and scale each feature to unit variance\n",
    "# In normal words, it transforms the data in such a way that\n",
    "# mean = 0 and standard deviation = 1\n",
    "sc = StandardScaler()\n",
    "# fit_transform is used on training data\n",
    "# fit method is calculating the mean and variance of each of the features present in our data\n",
    "# transform method is transforming all the features using the respective mean and variance\n",
    "X_train = sc.fit_transform(X_train)\n",
    "# transform is used on testing data\n",
    "# Using the transform method we can use the same mean and variance \n",
    "# as it is calculated from our training data to transform our test data \n",
    "X_test = sc.transform(X_test)\n",
    "print(X_train)\n",
    "print(X_test)\n",
    "\n",
    "# LDA is the imported function from sklearn\n",
    "lda = LDA(n_components = 1)\n",
    "X_train = lda.fit_transform(X_train, y_train)\n",
    "X_test = lda.transform(X_test)\n",
    "\n",
    "clf = tree.DecisionTreeClassifier()\n",
    "clf.fit(X_train, y_train)\n",
    "y_pred = clf.predict(X_test)\n",
    "cm = confusion_matrix(y_test, y_pred)\n",
    "print(\"\\nConfusion Matrix:\")\n",
    "print(cm)\n",
    "print(classification_report(y_pred,y_test))\n",
    "# stoping time\n",
    "end = time.time()\n",
    "# Print the runtime\n",
    "print(f\"The runtime is {end - start}\" + \"sec\")"
   ]
  },
  {
   "cell_type": "code",
   "execution_count": null,
   "metadata": {},
   "outputs": [],
   "source": []
  }
 ],
 "metadata": {
  "kernelspec": {
   "display_name": "Python 3",
   "language": "python",
   "name": "python3"
  },
  "language_info": {
   "codemirror_mode": {
    "name": "ipython",
    "version": 3
   },
   "file_extension": ".py",
   "mimetype": "text/x-python",
   "name": "python",
   "nbconvert_exporter": "python",
   "pygments_lexer": "ipython3",
   "version": "3.7.4"
  }
 },
 "nbformat": 4,
 "nbformat_minor": 4
}
